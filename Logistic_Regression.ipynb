{
  "nbformat": 4,
  "nbformat_minor": 0,
  "metadata": {
    "colab": {
      "provenance": []
    },
    "kernelspec": {
      "name": "python3",
      "display_name": "Python 3"
    },
    "language_info": {
      "name": "python"
    }
  },
  "cells": [
    {
      "cell_type": "markdown",
      "source": [
        "# MMN 12 - Softmax Regression"
      ],
      "metadata": {
        "id": "LMD6hZ-Wpp_r"
      }
    },
    {
      "cell_type": "markdown",
      "source": [
        "In this assignment I will implament a softmax regression and attempt to classify the digits in the MNIST dataset, and compare it to the result of the multi-class perceptron from MMN 11."
      ],
      "metadata": {
        "id": "aGHLA16TD3kB"
      }
    },
    {
      "cell_type": "markdown",
      "source": [
        "### Imports"
      ],
      "metadata": {
        "id": "M2TYJqhPEBYa"
      }
    },
    {
      "cell_type": "code",
      "source": [
        "%pip install numpy pandas seaborn matplotlib scikit-learn tabulate"
      ],
      "metadata": {
        "id": "ocwRWH5OyVZv"
      },
      "execution_count": null,
      "outputs": []
    },
    {
      "cell_type": "code",
      "execution_count": null,
      "metadata": {
        "id": "ItbA1E9EDWGk"
      },
      "outputs": [],
      "source": [
        "import numpy as np\n",
        "import pandas as pd\n",
        "import seaborn as sns\n",
        "import matplotlib.pyplot as plt\n",
        "\n",
        "from numpy import inf\n",
        "from types import SimpleNamespace\n",
        "from sklearn.datasets import fetch_openml\n",
        "from sklearn.model_selection import train_test_split\n",
        "from tabulate import tabulate\n",
        "\n",
        "# Fetch MNIST dataset\n",
        "mnist = fetch_openml('mnist_784', version=1, parser='auto')\n",
        "np.seterr(divide='ignore')"
      ]
    },
    {
      "cell_type": "markdown",
      "source": [
        "### Cleaning and re-arranging the dataset"
      ],
      "metadata": {
        "id": "aFRQ4zRNEFl9"
      }
    },
    {
      "cell_type": "markdown",
      "source": [
        "I will first import the dataset, and clean the data up for the Softmax model.\n",
        "\n",
        "Each feature vector, which has 784 elements (a flattened 28*28 image) in the dataset will have a bias with the value 1 added to the beginning of the vector, meaning each feature vector is now of size 785.\n",
        "\n",
        "The classes will be one-hot encoded as a vector of size 10 (the number of classes in the MNIST dataset) with every element in the vector being zero and the elementh in $ith$ place being 1, with $i$ corresponding to the numeric value of the class.\n",
        "For example: $one\\_hot('5') = (0,0,0,0,0,1,0,0,0,0)$"
      ],
      "metadata": {
        "id": "j5DilWovENR4"
      }
    },
    {
      "cell_type": "code",
      "source": [
        "# Access features (pixel values) and labels\n",
        "X, y = mnist['data'], mnist['target']\n",
        "classes = sorted(list(y.unique()))\n",
        "n_classes = int(y.to_numpy().max()) + 1\n",
        "\n",
        "# one hot encode labels\n",
        "y = y.astype(int)\n",
        "values = y.astype('int').to_list()\n",
        "one_hot_classes = np.eye(n_classes, dtype='int')\n",
        "one_hot_y = one_hot_classes[values]\n",
        "\n",
        "# adding bias to dataset\n",
        "X_biased = X.copy()\n",
        "X_biased.insert(0, 'pixel0', 1)\n",
        "X_proper = X_biased.to_numpy()"
      ],
      "metadata": {
        "id": "iU2rAes3DeDL"
      },
      "execution_count": null,
      "outputs": []
    },
    {
      "cell_type": "markdown",
      "source": [
        "I will now use the train_test_split method supplied by sklearn to divide the dataset into training and testing sets.\n",
        "\n",
        "The MNIST dataset has $70,000$ images, and as required by the outline of the assignment, the training set will be of size $60,000$ ($\\frac{6}{7}th$ of the dataset), and the testing set will be of size $10,000$ ($\\frac{1}{7}th$ of the dataset).\n",
        "\n",
        "The sets will be stratified using the labels, to have a balanced representation of classes in our training and testing sets.\n"
      ],
      "metadata": {
        "id": "CHHomzQLE-sM"
      }
    },
    {
      "cell_type": "code",
      "source": [
        "# change to constant integer for model testing and debug\n",
        "random_state = None\n",
        "\n",
        "# create test and train split\n",
        "X_train, X_test, y_train, y_test = train_test_split(\n",
        "    X_proper, one_hot_y, test_size=1/7,\n",
        "    shuffle=True, stratify=one_hot_y,\n",
        "    random_state=random_state\n",
        ")\n",
        "\n",
        "# transpose data to avoid multiple transpositions in the model\n",
        "X_train, X_test, y_train, y_test = X_train.T, X_test.T, y_train.T, y_test.T"
      ],
      "metadata": {
        "id": "XLw4ROKJEm4_"
      },
      "execution_count": null,
      "outputs": []
    },
    {
      "cell_type": "markdown",
      "source": [
        "## Softmax Regression\n",
        "The Softmax Regression is an extension of logistic regression for multiclass classification."
      ],
      "metadata": {
        "id": "dhb2QuS6Dn_H"
      }
    },
    {
      "cell_type": "markdown",
      "source": [
        "#### Overview of the implemntation of the fitting algorithm:\n",
        "Let D be the length of each feature vector in the dataset $\\textbf{X}$, C the number of classes and N the size of the dataset.\n",
        "\n",
        "Our initial weight matrix will be $\\textbf{W}^{\\{0\\}}_{C\\times D}  =\n",
        "\\begin{pmatrix}\n",
        "0.5 & 0   & ... & 0   \\\\\n",
        "0.5 & 0   & ... & 0   \\\\\n",
        "... & ... & ... & ... \\\\\n",
        "0.5 & 0   & ... & 0\n",
        "\\end{pmatrix}$.\n",
        "\n",
        "For each feature vector $\\underline{x}_i$, the hypothesis is defined to be:\n",
        "\n",
        "$\\underline{p}_i = \\underline{h}(\\underline{x}_i) = \\frac{1}{∑^C_{j=1}e^{\\underline{w}_j^T*\\underline{x}_i}}\\begin{pmatrix}e^{\\underline{w}_1^T*\\underline{x}_i}\\\\e^{\\underline{w}_2^T*\\underline{x}_i}\\\\...\\\\e^{\\underline{w}_C^T*\\underline{x}_i}\\end{pmatrix}$\n",
        "\n",
        "To avoid loops and speed up computation I will rewrite this so that the weight vectors will be computed for all feature vectors in the dataset in parallel, in the following way:\n",
        "\n",
        "For dataset  $\\textbf{X}_{D\\times N}$ where each **column** $i$ is a feature vector $\\underline{x}_i$, and for the weight matrix $\\textbf{W}_{C\\times D}$, the output of the product $\\textbf{P} = \\textbf{W} * \\textbf{D}$ is a matrix of size ${C\\times N}$, where each **column** $i$ in $\\textbf{P}$ is exactly $\\begin{pmatrix}{\\underline{w}_1^T*\\underline{x}_i}\\\\{\\underline{w}_2^T*\\underline{x}_i}\\\\...\\\\{\\underline{w}_C^T*\\underline{x}_i}\\end{pmatrix}$, $numpy.exp$ will be applied to $\\textbf{P}$ to receive a new matrix $\\textbf{P}_e$ where each element is e to the power of each element in $\\textbf{P}$ (piece-wise exponentiation). Finally to receive the matrix of hypotheses, $numpy.sum$ will be applied to each column, resulting in a vector $\\underline{s}$ where each element $s_i$ is the scalar of the column-vector $\\underline{p}_i$ written above, and so the finished matrix is a piece-wise numpy multiplication of each element $s_i$ with each column vector $[\\textbf{P}_e]_i$, resulting in the matrix $\\textbf{P}_f$, such that for each column $i$: $[\\textbf{P}_f]_i = \\underline{p}_i$ .\n",
        "\n",
        "\n",
        "Now, the same methodology must be applied to the loss function, definied as:\n",
        "\n",
        "$E_{in}(\\textbf{W}) = -∑^N_{n=1}∑^C_{c=1}Ind\\{y_n=c\\}log(\\frac{e^{\\underline{w}_1^T*\\underline{x}_i}}{∑^C_{j=1}e^{\\underline{w}_j^T*\\underline{x}_i}})$ .\n",
        "\n",
        "**Attempt one:**\n",
        "\n",
        "\n",
        "For a given one-hot encoded matrix of labels $\\textbf{O}$ of the same size and shape as $\\textbf{P}_f$, the matrix $\\textbf{L} = -\\textbf{O}^T*log(\\textbf{P}_f)$ is a $N\\times N$ matrix, where each element $\\textbf{L}_{ij} = -∑^N_{n=1}Ind\\{y_i=k\\}log(\\frac{exp({\\underline{w}_n^T*\\underline{x}_j})}{∑^C_{c=1}exp({\\underline{w}_c^T*\\underline{x}_j)}})$ where $k$ is the true label of a given feature vector, meaning that each element in $[log(\\textbf{P}_f)]_j$ is multiplied by zero in the dot product, except for exactly one element. Such that that $\\textbf{L}_{ij} = log(\\frac{exp({\\underline{w}_k^T*\\underline{x}_j})}{∑^C_{c=1}exp({\\underline{w}_c^T*\\underline{x}_j)}})$, and the log used throughout this process is a piece-wise log, finally summing all the elements in the matrix will result in $E_{in}(\\textbf{W})$.\n",
        "\n",
        "**Attempt two:**\n",
        "\n",
        "The first attempt created a matrix of size $N\\times N$, which proved to be to large for the RAM, and so to avoid overflow I will implament this logically instead of arithmetically.\n",
        "Again, there is a one-hot encoded matrix of labels $\\textbf{O}$ of the same size and shape as $\\textbf{P}_f$. If the matrix $\\textbf{O}$ is interpreted as a matrix of booleans $\\textbf{O}_b$, when overlayed as a mask over $\\textbf{P}_l=log(\\textbf{P}_f)$, will zero any element in the column vector $p_i$ of $\\textbf{P}_l$, except the element which represents the prediction for the actual class of the original feature-vector $x_i$ processed, which is equivalent to performing the inner loop (for variable c) of the $E_{in}$ loss equation above, as this mask overlays the entire prediction matrix, it will also perform the outer loop in parallel. $E_{in}$ is then simply the negation of sum of all elements inside the resulting matrix.\n",
        "\n",
        "Finally, as this regression uses Gradient Descent, this method will also be extended to $∇E_{in}(\\textbf{W})$.\n",
        "\n",
        "The Fradient Descent is defined as:\n",
        "\n",
        "$\\textbf{W}_{t+1}=\\textbf{W}_{t}-\\eta*∇E_{in}(\\textbf{W}_{t})$.\n",
        "\n",
        "Where $\\eta$ is also widely called the \"learning rate\" and will control the tendency of the gradient descent.\n",
        "\n",
        "To implament the GD, the proper form of $∇E_{in}(\\textbf{W}_{t})$ needs to be computed. First, the simpler form for a single weight vector $\\underline{w}$ and a single feature vector $\\underline{x}$ is:\n",
        "\n",
        "$\n",
        "E_{in}(\\underline{w}) = -(y*log(e^{\\underline{w}^T*\\underline{x}})+(1-y)log(1-e^{\\underline{w}^T*\\underline{x}}))\n",
        "$\n",
        "\n",
        "$\n",
        "\\Longrightarrow ∇E_{in}(\\underline{w}) =\n",
        "\\begin{pmatrix}\n",
        "\\frac{\\partial}{\\partial w_1} (-(y*log(e^{\\underline{w}^T*\\underline{x}})+(1-y)log(1-e^{\\underline{w}^T*\\underline{x}}))) \\\\\n",
        "\\frac{\\partial}{\\partial w_2} (-(y*log(e^{\\underline{w}^T*\\underline{x}})+(1-y)log(1-e^{\\underline{w}^T*\\underline{x}}))) \\\\\n",
        "... \\\\\n",
        "\\frac{\\partial}{\\partial w_d} (-(y*log(e^{\\underline{w}^T*\\underline{x}})+(1-y)log(1-e^{\\underline{w}^T*\\underline{x}})))\n",
        "\\end{pmatrix}\n",
        "=\n",
        "\\begin{pmatrix}\n",
        "(e^{\\underline{w}^T*\\underline{x}} - y)*x_1 \\\\\n",
        "(e^{\\underline{w}^T*\\underline{x}} - y)*x_2 \\\\\n",
        "... \\\\\n",
        "(e^{\\underline{w}^T*\\underline{x}} - y)*x_d\n",
        "\\end{pmatrix}\n",
        "$.\n",
        "\n",
        "The generalization for a matrix $\\textbf{X}$ is:\n",
        "\n",
        "$\n",
        "E_{in}(\\underline{w}) = -∑^N_{n=1}(y*log(e^{\\underline{w}^T*\\underline{x}_n})+(1-y)log(1-e^{\\underline{w}^T*\\underline{x}_n}))\n",
        "$\n",
        "\n",
        "$\n",
        "\\Longrightarrow ∇E_{in}(\\underline{w})\n",
        "=\n",
        "\\begin{pmatrix}\n",
        "∑^N_{n=1}(e^{\\underline{w}^T*\\underline{x}^{\\{1\\}}} - y)*x^{\\{n\\}}_1 \\\\\n",
        "∑^N_{n=1}(e^{\\underline{w}^T*\\underline{x}_{\\{2\\}}} - y)*x^{\\{n\\}}_2 \\\\\n",
        "... \\\\\n",
        "∑^N_{n=1}(e^{\\underline{w}^T*\\underline{x}_{\\{N\\}}} - y)*x^{\\{n\\}}_D\n",
        "\\end{pmatrix}\n",
        "$.\n",
        "\n",
        "where the superscript of vector $\\underline{x}^{\\{i\\}}$ indicates that this is the column vector $i$ of $\\textbf{X}$ and the subscript of $x^{\\{i\\}}_j$ indicates it is the $j$th element in the vector.\n",
        "\n",
        "The final generalization for matrices $\\textbf{X}$ and $\\textbf{W}$ is immediate, given a prediction matrix $\\textbf{P}$ and one-hot label matrix $\\textbf{O}$ as defined above:\n",
        "\n",
        "$∇E_{in}(\\textbf{w}) =(\\textbf{P} - \\textbf{O}) * \\textbf{X}^T$\n",
        "\n",
        "$\n",
        "\\Longrightarrow\n",
        "\\textbf{W}_{t+1}=\\textbf{W}_{t}-\\eta*((\\textbf{P} - \\textbf{O}) * \\textbf{X}^T)\n",
        "$.\n",
        "\n",
        "And so the full logical & mathematical process has been derived."
      ],
      "metadata": {
        "id": "qx0EcTgIihZv"
      }
    },
    {
      "cell_type": "markdown",
      "source": [
        "#### Overview of the implementation of the scoring method\n",
        "The prediction of the evaluation dataset will be performed as outlined above, for given weights achieved after performing fitting.\n",
        "\n",
        " To translate the probabilistic predictions into binary predictions,\n",
        " $p = argmax_{i\\in\\{0,...,9\\}}(p_i) = argmax_{i\\in\\{0,...,9\\}}([h(\\underline{x})]_i)\n",
        " =\n",
        " argmax(\\frac{1}{∑^C_{j=1}e^{\\underline{w}_j^T*\\underline{x}}}\n",
        " \\begin{pmatrix}\n",
        " e^{\\underline{w}_1^T*\\underline{x}}\\\\\n",
        " e^{\\underline{w}_2^T*\\underline{x}}\\\\\n",
        " ...\\\\\n",
        " e^{\\underline{w}_C^T*\\underline{x}}\n",
        " \\end{pmatrix}\n",
        " )\n",
        " =\n",
        " \\frac{1}{∑^C_{j=1}e^{\\underline{w}_j^T*\\underline{x}}}\n",
        " argmax(\n",
        " \\begin{pmatrix}\n",
        " e^{\\underline{w}_1^T*\\underline{x}}\\\\\n",
        " e^{\\underline{w}_2^T*\\underline{x}}\\\\\n",
        " ...\\\\\n",
        " e^{\\underline{w}_C^T*\\underline{x}}\n",
        " \\end{pmatrix}\n",
        " )\n",
        " $\n",
        "\n",
        " will be used to chose which class is the best prediction for a given feature vector $\\underline{x}$.\n",
        "\n",
        "The scoring will return an assessment using the 'one-versus-all' strategy, where each class $i$ will be assessed in the following manner:\n",
        "- $TP_i$ - number of instances of class $i$ predicted as class $i$\n",
        "- $FN_i$ - number of instances of class $i$ predicted as some class other than $i$\n",
        "- $FP_i$ - number of instances of all classes other than $i$ predicted as class $i$\n",
        "- $TN_i$ - number of instances of all classes other than $i$ predicted as some class other than $i$ (mislabelling among these classes don't matter as long as class $i$ is not involved)\n",
        "\n",
        "after that I will calculate the accuracy, sensitivity and selectivity and output all four calculations, using the equations given in the assignment:\n",
        "\n",
        "- The Accuracy is defined as ACC=(TP+TN)/(TP+TN+FP+FN)\n",
        "- The sensitivity (True positive rate) is defined as TPR = TP/(TP+FN)\n",
        "- The selectivity (True negative rate) is defined as TNR = TN/(TN+FP)\n"
      ],
      "metadata": {
        "id": "GOGAZOaHit4c"
      }
    },
    {
      "cell_type": "markdown",
      "source": [
        "#### Other useful information about the model implamentation\n",
        "The model will also have the following option:\n",
        "- A validation set & labels can be passed to calulate loss independantly for model analysis.\n",
        "- The model has an optional cut off value, that will allow it to stop iteration early if difference between consecutive iterations falls beneath it.\n",
        "- The model will have user friendly (albeit a bit a spammy) output messages during the fitting describing each epoch, that can be turned on and off if needed."
      ],
      "metadata": {
        "id": "tSTYScydwKqU"
      }
    },
    {
      "cell_type": "markdown",
      "source": [
        "#### Class definition for Softmax Regression"
      ],
      "metadata": {
        "id": "mMhxT8_Hjb6W"
      }
    },
    {
      "cell_type": "code",
      "source": [
        "class Softmax:\n",
        "    \"\"\"\n",
        "    A softmax regression model, which is a multiclass generalization of the\n",
        "    logistic regression model.\n",
        "    \"\"\"\n",
        "    def __init__(self):\n",
        "      self._weights = None\n",
        "      self._history = None\n",
        "\n",
        "    # getters & setters #\n",
        "\n",
        "    @property\n",
        "    def history(self):\n",
        "      return self._history\n",
        "\n",
        "    # Fitting method and sub-methods #\n",
        "\n",
        "    def fit(self, dataset, labels, epochs=20, lr=10**-5, validation=None,\n",
        "            cut_off=None, verbose=True):\n",
        "      \"\"\"\n",
        "      :param dataset: 2d array where each column is a feature vector.\n",
        "      :param labels: 2d array of labels where each column is a one-hot\n",
        "        representation of the label for the corresponding column in the\n",
        "        'dataset'.\n",
        "      :param epochs: number of iterations for the gradient descent algorithm.\n",
        "        defualt is 20.\n",
        "      :param lr: learning rate which acts as a scalar for gradient descent,\n",
        "        used to avoid divergence on the one hand, and undershooting on the\n",
        "        other.\n",
        "      :param validation:\n",
        "        a tuple which contains:\n",
        "          [0]: a validaiton set that will be used to calulate a\n",
        "          loss independant from the training set.\n",
        "          [1]: corresponding one-hot labels.\n",
        "        This set will have no influence over the training itself.\n",
        "      :param cut_off: if a difference in loss in consecutive iterations falls\n",
        "        beneath this threshold , the iteration will stop early.\n",
        "        default is None.\n",
        "      :param verbose: print out messages to user during fitting if True.\n",
        "        default is True.\n",
        "      \"\"\"\n",
        "      # create history DF if it doesn't exist\n",
        "      if self._history is None:\n",
        "        self._initialize_history(validation)\n",
        "\n",
        "      # last_known_epoch used to keep correct epoch\n",
        "      # enumeration in 'history' for multiple fits,\n",
        "      # i.e. if fit is run more than once it should avoid the epoch\n",
        "      # resetting in the middle of the history DataFrame\n",
        "      last_known_epoch = self._history.iloc[-1]['epoch']\n",
        "\n",
        "      # initial weight is as described in the exploration\n",
        "      if self._weights is None:\n",
        "        n_clas = len(labels)\n",
        "        weights = np.zeros((n_clas, len(dataset)), dtype='longdouble')\n",
        "        weights[:, 0] = 0.5 * np.ones(n_clas)\n",
        "      else:\n",
        "        weights = self._weights\n",
        "\n",
        "      # normalize dataset values to avoid overflow when exponentiating\n",
        "      dataset = self._normalize(dataset)\n",
        "      if validation is not None:\n",
        "        val_set = self._normalize(validation[0])\n",
        "        validation = (val_set, validation[1])\n",
        "\n",
        "      # keep the previous loss of each iteration for cut off rate\n",
        "      prev_loss = np.iinfo('int64').max\n",
        "\n",
        "      # fit loop\n",
        "      for epoch in range(1, epochs + 1):\n",
        "        # create and evaluate prediction\n",
        "        predictions = self._predict(dataset, weights)\n",
        "        train_loss = self._loss(labels, predictions)\n",
        "\n",
        "        # validation\n",
        "        val_loss = None\n",
        "        if validation is not None:\n",
        "          val_predictions = self._predict(validation[0], weights)\n",
        "          val_loss = self._loss(validation[1], val_predictions)\n",
        "\n",
        "        # update history\n",
        "        if validation is not None:\n",
        "          self._update_history(\n",
        "            last_known_epoch, epoch, train_loss, val_loss)\n",
        "        else:\n",
        "          self._update_history(last_known_epoch, epoch, train_loss)\n",
        "\n",
        "        # interactive user update\n",
        "        if verbose:\n",
        "          self._update_user(epoch, train_loss, val_loss)\n",
        "\n",
        "        # cut-off rate for early exit\n",
        "        if cut_off is not None and np.abs(prev_loss-train_loss) < cut_off:\n",
        "            break\n",
        "        prev_loss = train_loss\n",
        "\n",
        "        # gradient\n",
        "        d_weights = (predictions - labels) @ dataset.T\n",
        "\n",
        "        # new weights\n",
        "        weights += -lr * d_weights\n",
        "\n",
        "      self._weights = weights\n",
        "\n",
        "    @staticmethod\n",
        "    def _normalize(dataset):\n",
        "      # each value in the data set will be between 0 and 1\n",
        "      return (1 / dataset.max()) * dataset\n",
        "\n",
        "    @staticmethod\n",
        "    def _predict(dataset, weights):\n",
        "      # standard matrix product\n",
        "      prod = weights @ dataset\n",
        "\n",
        "      # piece-wise exponentiation\n",
        "      prod_exp = np.exp(prod)\n",
        "\n",
        "      # normalize each column vector to be between 0 and 1\n",
        "      scalar = 1 / np.sum(prod_exp, axis=0)\n",
        "      scalar = scalar.reshape((1, -1))\n",
        "      prediction = scalar * prod_exp\n",
        "      return prediction\n",
        "\n",
        "    @staticmethod\n",
        "    def _loss(labels, predictions):\n",
        "      # create boolean mask from one-hot labels\n",
        "      labels_b = labels.astype(bool)\n",
        "\n",
        "      # zero-out all mismatches\n",
        "      log_predictions = np.log(predictions)\n",
        "      loss_arr = log_predictions[labels_b]\n",
        "\n",
        "      # calculate the loss and normalize its size\n",
        "      loss = -1 *sum(loss_arr)\n",
        "      loss = (1/len(loss_arr)) * loss\n",
        "      return loss\n",
        "\n",
        "    # fitting history & other methods #\n",
        "\n",
        "    def _update_user(self, epoch, train_loss, val_loss):\n",
        "      tl = np.abs(train_loss)\n",
        "      vl = np.abs(val_loss)\n",
        "      print(f\"For epoch {epoch}: \")\n",
        "      print(f\"train loss is {tl:.4f}, validation loss is {vl:.4f}\")\n",
        "\n",
        "    def _initialize_history(self, validation):\n",
        "      columns = ['epoch', 'train_loss']\n",
        "      df_lsts = [[0, None]]\n",
        "\n",
        "      if validation is not None:\n",
        "        columns += ['validation_loss']\n",
        "        df_lsts[0] += [None]\n",
        "\n",
        "      self._history = pd.DataFrame(\n",
        "        df_lsts,\n",
        "        columns=columns)\n",
        "\n",
        "    def _update_history(self, lk_epoch, epoch, train_loss,\n",
        "                        validation_loss=None):\n",
        "      n_ind = len(self._history)\n",
        "      history_epoch = lk_epoch + int(epoch)\n",
        "      row = [history_epoch, train_loss]\n",
        "\n",
        "      if validation_loss is not None:\n",
        "        row += [validation_loss, ]\n",
        "\n",
        "      self._history.loc[n_ind] = row\n",
        "\n",
        "    # Scoring method and sub-methods #\n",
        "\n",
        "    def score(self, dataset, labels):\n",
        "      # check if model fitted\n",
        "      if self._weights is None:\n",
        "        print(\n",
        "          \"Model is unfitted, please run 'fit' method on \"\n",
        "          \"a training dataset first\")\n",
        "        return\n",
        "\n",
        "      # predict dataset\n",
        "      dataset = self._normalize(dataset)\n",
        "      predictions = self._predict(dataset, self._weights)\n",
        "\n",
        "      # get enumerated labels\n",
        "      predictions_t = np.argmax(predictions, axis=0)\n",
        "      labels_t = np.argmax(labels, axis=0)\n",
        "\n",
        "      # create confusion matrix\n",
        "      n_clas = len(self._weights)\n",
        "      conf_mat = np.zeros((n_clas, n_clas), dtype='int')\n",
        "      for label, prediction in zip(labels_t, predictions_t):\n",
        "        conf_mat[label][prediction] += 1\n",
        "\n",
        "      # calculate evaluations\n",
        "      assess = self._aggregate_assessment(conf_mat)\n",
        "\n",
        "      # return evaluations\n",
        "      retval = SimpleNamespace(confusion_matrix=conf_mat, assessment=assess)\n",
        "      return retval\n",
        "\n",
        "    @staticmethod\n",
        "    def _aggregate_assessment(confusion_matrix):\n",
        "      # create assessment df\n",
        "      headers = ['accuracy', 'sensitivity', 'selectivity']\n",
        "      assessment = pd.DataFrame(columns=headers)\n",
        "\n",
        "      # calcualte accuracy, sensitivity and selectivity using the method\n",
        "      # described in the exploration\n",
        "      n_clas = len(confusion_matrix)\n",
        "      column_sums = np.sum(confusion_matrix, axis=0)\n",
        "      row_sums = np.sum(confusion_matrix, axis=1)\n",
        "      for i in range(n_clas):\n",
        "        tp = confusion_matrix[i][i]\n",
        "        tn = confusion_matrix.sum() - row_sums[i] - column_sums[i] + tp\n",
        "        fp = column_sums[i] - tp\n",
        "        fn = row_sums[i] - tp\n",
        "\n",
        "        accuracy = np.round((tp + tn) / (tp + tn + fp + fn), 3)\n",
        "        sensitivity = np.round(tp / (tp + fn), 3)\n",
        "        selectivity = np.round(tn / (tn + fp), 3)\n",
        "        assessment.loc[i] = [accuracy, sensitivity, selectivity]\n",
        "\n",
        "      # calulate the average accuracy, sensitivity and selectivity of each\n",
        "      # class in the model\n",
        "      avg_accuracy = np.mean(assessment['accuracy'])\n",
        "      avg_sensitivity = np.mean(assessment['sensitivity'])\n",
        "      avg_selectivity = np.mean(assessment['selectivity'])\n",
        "      assessment.loc['avg'] = [avg_accuracy, avg_sensitivity, avg_selectivity]\n",
        "      return assessment"
      ],
      "metadata": {
        "id": "bUBwvowODgq4"
      },
      "execution_count": null,
      "outputs": []
    },
    {
      "cell_type": "markdown",
      "source": [
        "#### Training the Softmax Regression model"
      ],
      "metadata": {
        "id": "HGIev4Uyj7KY"
      }
    },
    {
      "cell_type": "markdown",
      "source": [
        "After some expirementation, a learning rate of $10^{-5}$ was chosen, as a learning rate of $10^{-4}$ diverges after a few epochs, and a learning rate of $10^{-6}$ converges very slowly.\n",
        "\n",
        "After some attempts, the optimal number of epochs with the learning rate above for an an **average** accuracy and selectivity of **95%+** and sensitivity of **85%+** is about **20 epochs**. The runtime for 20 epochs was measured to be roughly 3 and a half minutes on colab.\n",
        "\n",
        "To cut off early, set 'cut_off' to an acceptable loss ($E_{in}$) **difference between consecutive epochs**, to end the model early. To avoid excessive messaging, change \"verbose\" to False to silence model printouts."
      ],
      "metadata": {
        "id": "2KOnmnEHkLjX"
      }
    },
    {
      "cell_type": "code",
      "source": [
        "lr = 10 ** -5\n",
        "epochs = 20\n",
        "cut_off = None\n",
        "verbose = True\n",
        "\n",
        "sm = Softmax()\n",
        "sm.fit(\n",
        "  X_train,\n",
        "  y_train,\n",
        "  epochs=epochs,\n",
        "  lr=lr,\n",
        "  validation=(X_test, y_test),\n",
        "  cut_off=cut_off,\n",
        "  verbose=verbose)"
      ],
      "metadata": {
        "id": "bNYGW7rkDmsD",
        "colab": {
          "base_uri": "https://localhost:8080/"
        },
        "outputId": "100e2d3d-4ffa-4dc7-d9b6-24fa7785f0f5"
      },
      "execution_count": null,
      "outputs": [
        {
          "output_type": "stream",
          "name": "stdout",
          "text": [
            "For epoch 1: \n",
            "train loss is 2.3026, validation loss is 2.3026\n",
            "For epoch 2: \n",
            "train loss is 1.7524, validation loss is 1.7528\n",
            "For epoch 3: \n",
            "train loss is 1.4178, validation loss is 1.4206\n",
            "For epoch 4: \n",
            "train loss is 1.2119, validation loss is 1.2123\n",
            "For epoch 5: \n",
            "train loss is 1.0832, validation loss is 1.0861\n",
            "For epoch 6: \n",
            "train loss is 0.9876, validation loss is 0.9882\n",
            "For epoch 7: \n",
            "train loss is 0.9363, validation loss is 0.9383\n",
            "For epoch 8: \n",
            "train loss is 0.8620, validation loss is 0.8624\n",
            "For epoch 9: \n",
            "train loss is 0.8363, validation loss is 0.8376\n",
            "For epoch 10: \n",
            "train loss is 0.7742, validation loss is 0.7742\n",
            "For epoch 11: \n",
            "train loss is 0.7523, validation loss is 0.7532\n",
            "For epoch 12: \n",
            "train loss is 0.7108, validation loss is 0.7104\n",
            "For epoch 13: \n",
            "train loss is 0.6907, validation loss is 0.6912\n",
            "For epoch 14: \n",
            "train loss is 0.6627, validation loss is 0.6619\n",
            "For epoch 15: \n",
            "train loss is 0.6447, validation loss is 0.6447\n",
            "For epoch 16: \n",
            "train loss is 0.6253, validation loss is 0.6242\n",
            "For epoch 17: \n",
            "train loss is 0.6103, validation loss is 0.6098\n",
            "For epoch 18: \n",
            "train loss is 0.5962, validation loss is 0.5949\n",
            "For epoch 19: \n",
            "train loss is 0.5842, validation loss is 0.5832\n",
            "For epoch 20: \n",
            "train loss is 0.5733, validation loss is 0.5718\n"
          ]
        }
      ]
    },
    {
      "cell_type": "markdown",
      "source": [
        "#### Assessing the Softmax Regression model"
      ],
      "metadata": {
        "id": "FFyYSPyykpgE"
      }
    },
    {
      "cell_type": "markdown",
      "source": [
        "In this graph I will plot the training loss and validation loss over each epoch in the model fitting process."
      ],
      "metadata": {
        "id": "b0MKtvfZnFkz"
      }
    },
    {
      "cell_type": "code",
      "source": [
        "# fetch history\n",
        "history = sm.history.dropna()\n",
        "t = history['epoch']\n",
        "tl = history['train_loss']\n",
        "vl = history['validation_loss']\n",
        "\n",
        "# create graph\n",
        "fig = plt.figure(figsize=(14, 6))\n",
        "axs = fig.subplots()\n",
        "font_size = 20\n",
        "\n",
        "# plot loss\n",
        "axs.plot(t, tl, 'b', lw=5, label=history.columns[1])\n",
        "axs.plot(t, vl, 'orange', lw=2 ,label=history.columns[2])\n",
        "axs.set_title('Loss for Softmax Regression',  fontsize=font_size)\n",
        "axs.legend()\n",
        "plt.xticks(range(int(t.min())-1, int(t.max()+1), 5))\n",
        "\n",
        "plt.show()"
      ],
      "metadata": {
        "colab": {
          "base_uri": "https://localhost:8080/",
          "height": 553
        },
        "id": "GDKUaUusm4sk",
        "outputId": "d1cf9fe8-2197-433c-82fb-63c3cb4265ee"
      },
      "execution_count": null,
      "outputs": [
        {
          "output_type": "display_data",
          "data": {
            "text/plain": [
              "<Figure size 1400x600 with 1 Axes>"
            ],
            "image/png": "[encoded data removed]"
          },
          "metadata": {}
        }
      ]
    },
    {
      "cell_type": "markdown",
      "source": [
        "#### Scoring the Softmax Regression model"
      ],
      "metadata": {
        "id": "rfPKvQqZlECR"
      }
    },
    {
      "cell_type": "markdown",
      "source": [
        "Let's score the test set to see how the model will do."
      ],
      "metadata": {
        "id": "oW1CbN0w9rB6"
      }
    },
    {
      "cell_type": "code",
      "source": [
        "# score test set\n",
        "sm_score = sm.score(X_test, y_test)"
      ],
      "metadata": {
        "id": "1JzjQkQF9px9"
      },
      "execution_count": null,
      "outputs": []
    },
    {
      "cell_type": "markdown",
      "source": [
        "Next, I will plot the confusion matrix given by the model's 'score' method over a seaborn heatmap:\n",
        "\n"
      ],
      "metadata": {
        "id": "Jczp9bZ2nl_2"
      }
    },
    {
      "cell_type": "code",
      "source": [
        "# fetch and arrange data to present in heatmap\n",
        "header = sm_score.assessment.index[:-1]\n",
        "heatmap_df = pd.DataFrame(\n",
        "  sm_score.confusion_matrix, index=header, columns=header)\n",
        "\n",
        "# plot heatmap\n",
        "plt.figure(figsize=(8, 5))\n",
        "sns.heatmap(heatmap_df, annot=True, fmt='.0f')\n",
        "plt.title('Confusion Matrix for Softmax Regression', fontsize=18)\n",
        "plt.xlabel('Prediction', fontsize=14)\n",
        "plt.ylabel('Label', fontsize=14)\n",
        "\n",
        "plt.show()"
      ],
      "metadata": {
        "colab": {
          "base_uri": "https://localhost:8080/",
          "height": 497
        },
        "id": "7pAPDFZVVrdT",
        "outputId": "df1f732f-45c5-419b-8b79-e81f690d1b2a"
      },
      "execution_count": null,
      "outputs": [
        {
          "output_type": "display_data",
          "data": {
            "text/plain": [
              "<Figure size 800x500 with 2 Axes>"
            ],
            "image/png": "[encoded data removed]"
          },
          "metadata": {}
        }
      ]
    },
    {
      "cell_type": "markdown",
      "source": [
        "Finally, I will plot the model's assessment in table:"
      ],
      "metadata": {
        "id": "jlTT9vecpWhT"
      }
    },
    {
      "cell_type": "code",
      "source": [
        "headers = sm_score.assessment.columns\n",
        "table = tabulate(\n",
        "  sm_score.assessment, headers=headers, tablefmt=\"grid\")\n",
        "print(table)"
      ],
      "metadata": {
        "colab": {
          "base_uri": "https://localhost:8080/"
        },
        "id": "puWLq4p1lLGH",
        "outputId": "ce6e20a5-fa4e-4d18-b3aa-85008208c837"
      },
      "execution_count": null,
      "outputs": [
        {
          "output_type": "stream",
          "name": "stdout",
          "text": [
            "+-----+------------+---------------+---------------+\n",
            "|     |   accuracy |   sensitivity |   selectivity |\n",
            "+=====+============+===============+===============+\n",
            "| 0   |     0.987  |        0.947  |         0.992 |\n",
            "+-----+------------+---------------+---------------+\n",
            "| 1   |     0.981  |        0.963  |         0.983 |\n",
            "+-----+------------+---------------+---------------+\n",
            "| 2   |     0.971  |        0.825  |         0.987 |\n",
            "+-----+------------+---------------+---------------+\n",
            "| 3   |     0.967  |        0.855  |         0.98  |\n",
            "+-----+------------+---------------+---------------+\n",
            "| 4   |     0.976  |        0.862  |         0.988 |\n",
            "+-----+------------+---------------+---------------+\n",
            "| 5   |     0.966  |        0.735  |         0.988 |\n",
            "+-----+------------+---------------+---------------+\n",
            "| 6   |     0.98   |        0.915  |         0.986 |\n",
            "+-----+------------+---------------+---------------+\n",
            "| 7   |     0.979  |        0.886  |         0.99  |\n",
            "+-----+------------+---------------+---------------+\n",
            "| 8   |     0.963  |        0.798  |         0.981 |\n",
            "+-----+------------+---------------+---------------+\n",
            "| 9   |     0.963  |        0.853  |         0.975 |\n",
            "+-----+------------+---------------+---------------+\n",
            "| avg |     0.9733 |        0.8639 |         0.985 |\n",
            "+-----+------------+---------------+---------------+\n"
          ]
        }
      ]
    },
    {
      "cell_type": "markdown",
      "source": [
        "## Conclusion\n",
        "The Softmax Regression model performed relatively better than the Multi-class Perceptron for **substantially** better benchmarks, with a higher average accuracy, sensitivity and selectivity in roughly half the time (3.5 minutes for Softmax vs 7 minutes for multi-class Perceptron) and a whole order of magnitude in epochs (300+ epochs for Multi-class Perceptron vs 20 for Softmax). This implies that for a better vectorized implementation under-the-hood and\\or with parallel hardware (such as a GPU) an even higher improvement in real-time performance can be achieved.\n",
        "\n",
        "Also, in contrast to the Multi-class perceptron, no single digit classification rate falls underneath 70% in sensitivity, which is a substantial improvement over the Multi-class perceptron, that tended to have a digit or two that were very misclassified.\n",
        "\n",
        "As in the previous assignment, sensitivity the best assessor in this case for measuring the effective preformance of the model, rerunning the model for 80 epochs, the average sensitivity will reach just shy of **90%** with each individual class having a senesitivity of **80%** and above, with the difference between consecutive losses approaching 0.001.\n",
        "\n",
        "As such, the Softmax Regression is a substentially better model for MNIST digist classification considering the measurements done until now in both assignments.\n",
        "\n",
        "-- R. Waitzman"
      ],
      "metadata": {
        "id": "kng1NF7yQLvf"
      }
    }
  ]
}