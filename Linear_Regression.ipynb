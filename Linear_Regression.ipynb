{
  "nbformat": 4,
  "nbformat_minor": 0,
  "metadata": {
    "colab": {
      "provenance": []
    },
    "kernelspec": {
      "name": "python3",
      "display_name": "Python 3"
    },
    "language_info": {
      "name": "python"
    }
  },
  "cells": [
    {
      "cell_type": "markdown",
      "source": [
        "# MMN 13 - Linear Regression\n",
        "### Roman Waitzman (313597270)"
      ],
      "metadata": {
        "id": "LMD6hZ-Wpp_r"
      }
    },
    {
      "cell_type": "markdown",
      "source": [
        "In this assignment I will implament a Linear Regression and attempt to classify the digits in the MNIST dataset, and compare it to the result of the Multi-Class Perceptron from MMN 11, and the Softmax Regression from MMN 12."
      ],
      "metadata": {
        "id": "aGHLA16TD3kB"
      }
    },
    {
      "cell_type": "markdown",
      "source": [
        "### Imports"
      ],
      "metadata": {
        "id": "M2TYJqhPEBYa"
      }
    },
    {
      "cell_type": "code",
      "source": [
        "%pip install numpy pandas seaborn matplotlib scikit-learn tabulate"
      ],
      "metadata": {
        "id": "ocwRWH5OyVZv"
      },
      "execution_count": null,
      "outputs": []
    },
    {
      "cell_type": "code",
      "execution_count": null,
      "metadata": {
        "id": "ItbA1E9EDWGk"
      },
      "outputs": [],
      "source": [
        "import numpy as np\n",
        "import pandas as pd\n",
        "import seaborn as sns\n",
        "import matplotlib.pyplot as plt\n",
        "\n",
        "from numpy import inf\n",
        "from types import SimpleNamespace\n",
        "from sklearn.datasets import fetch_openml\n",
        "from sklearn.model_selection import train_test_split\n",
        "from tabulate import tabulate\n",
        "\n",
        "# Fetch MNIST dataset\n",
        "mnist = fetch_openml('mnist_784', version=1, parser='auto')\n",
        "np.seterr(divide='ignore')"
      ]
    },
    {
      "cell_type": "markdown",
      "source": [
        "### Cleaning and re-arranging the dataset"
      ],
      "metadata": {
        "id": "aFRQ4zRNEFl9"
      }
    },
    {
      "cell_type": "markdown",
      "source": [
        "The classes will be one-hot encoded as a vector of size 10 (the number of classes in the MNIST dataset) with every element in the vector being zero and the elementh in $ith$ place being 1, with $i$ corresponding to the numeric value of the class.\n",
        "For example: $one\\_hot('5') = (0,0,0,0,0,1,0,0,0,0)$"
      ],
      "metadata": {
        "id": "j5DilWovENR4"
      }
    },
    {
      "cell_type": "code",
      "source": [
        "def one_hot_encoding(y):\n",
        "  n_classes = int(y.to_numpy().max()) + 1\n",
        "  y = y.astype(int)\n",
        "  values = y.astype('int').to_list()\n",
        "  one_hot_classes = np.eye(n_classes, dtype='int')\n",
        "  return one_hot_classes[values]"
      ],
      "metadata": {
        "id": "cnPiH3zIIrvz"
      },
      "execution_count": 3,
      "outputs": []
    },
    {
      "cell_type": "markdown",
      "source": [
        "I will first import the dataset, and clean the data up for the Linear Regression Model.\n",
        "\n",
        "Each feature vector, which has 784 elements (a flattened 28*28 image) in the dataset will have a bias with the value 1 added to the beginning of the vector, meaning each feature vector is now of size 785."
      ],
      "metadata": {
        "id": "xLjbEU1OJc7A"
      }
    },
    {
      "cell_type": "code",
      "source": [
        "# Access features (pixel values) and labels\n",
        "X, y = mnist['data'], mnist['target']\n",
        "classes = sorted(list(y.unique()))\n",
        "\n",
        "# one hot encode labels\n",
        "one_hot_y = one_hot_encoding(y)\n",
        "\n",
        "# adding bias to dataset\n",
        "X_biased = X.copy()\n",
        "X_biased.insert(0, 'pixel0', 1)\n",
        "X_proper = X_biased.to_numpy()"
      ],
      "metadata": {
        "id": "iU2rAes3DeDL"
      },
      "execution_count": 4,
      "outputs": []
    },
    {
      "cell_type": "markdown",
      "source": [
        "I will now use the train_test_split method supplied by sklearn to divide the dataset into training and testing sets.\n",
        "\n",
        "The MNIST dataset has $70,000$ images, and as required by the outline of the assignment, the training set will be of size $60,000$ ($\\frac{6}{7}th$ of the dataset), and the testing set will be of size $10,000$ ($\\frac{1}{7}th$ of the dataset).\n",
        "\n",
        "The sets will be stratified using the labels, to have a balanced representation of classes in our training and testing sets.\n"
      ],
      "metadata": {
        "id": "CHHomzQLE-sM"
      }
    },
    {
      "cell_type": "code",
      "source": [
        "# change to constant integer for model testing and debug\n",
        "random_state = None\n",
        "\n",
        "# create test and train split\n",
        "X_train, X_test, y_train, y_test = train_test_split(\n",
        "  X_proper, one_hot_y, test_size=1/7,\n",
        "  shuffle=True, stratify=one_hot_y,\n",
        "  random_state=random_state\n",
        ")"
      ],
      "metadata": {
        "id": "XLw4ROKJEm4_"
      },
      "execution_count": 5,
      "outputs": []
    },
    {
      "cell_type": "markdown",
      "source": [
        "## Linear Regression\n",
        "The Linear Regression attempts to linearly separate a group of points, this is going to be extended to a multi-class repgression for the purpose of the MNIST classification task."
      ],
      "metadata": {
        "id": "dhb2QuS6Dn_H"
      }
    },
    {
      "cell_type": "markdown",
      "source": [
        "#### Formulating the assaignment as a Linear Regression problem\n",
        "Generally speaking Linear Regression will attempt to find the best hyperparameters such the they difine a hyperplane separating the samples according to some threshold (bias).\n",
        "\n",
        "In our case, we have sample of a given class, for example '7', and all other classes (i.e. 'not-7'), we can attempt to find a hyperplane such that all '7's are on one side and all 'non-7's are on the other. So far we've fomrulated a Linear Regression interpretation fo a binary classification. In this case where we have multiple classes, similar to the logic of the previous assignments, we can simple attempt to find 10 different hyperplanes, each separationg between a class 'X' and a class 'not-X', using a weight **matrix** instead of a vector, such that each column is a linear separator for a specific class.\n",
        "\n",
        "Let's formulate this notion."
      ],
      "metadata": {
        "id": "1ihZk3A0vGMv"
      }
    },
    {
      "cell_type": "markdown",
      "source": [
        "#### Overview of the implemntation of the fitting algorithm:"
      ],
      "metadata": {
        "id": "qx0EcTgIihZv"
      }
    },
    {
      "cell_type": "markdown",
      "source": [
        "##### **Mathematical Formulation**:\n",
        "Let D be the length of each feature vector in the dataset $\\textbf{X}$, C the number of classes and N the size of the dataset $\\textbf{X}$.\n",
        "\n",
        "Under the assumption that each **row** vector in $\\textbf{X}$ is a feature vector, such that the size of $\\textbf{X}$ is ${N\\times D}$,\n",
        "Let's first go over the hypotheses and loss for a single weight vector and a full dataset:\n",
        "\n",
        "- $ h(\\textbf{X}) = \\textbf{X}*\\underline{w} $\n",
        "- $ \\underline{y} =\n",
        "\\begin{pmatrix}\n",
        "y_1 \\\\\n",
        "y_2 \\\\\n",
        "... \\\\\n",
        "y_N\n",
        "\\end{pmatrix}\n",
        "$\n",
        "- $ E_{in}(\\underline{w})=\\frac{1}{N}\\lVert e \\rVert^2=\\frac{1}{N}\\rVert \\underline{y} - \\textbf{X}*\\underline{w} \\lVert ^2   $\n",
        "- $∇E_{in}(\\underline{w})=-\\frac{2}{N}*\\textbf{X}^T(\\underline{y} - \\textbf{X}\\underline{w})\n",
        "$\n",
        "\n",
        "The new definitions for the multiclass linear regression with a weight a matrix $\\textbf{W}_{D\\times C}$, where each **column** $j$ will be the weight vector for the classification for class $j$:\n",
        "- First of all one-hot representation will be used for the class labels, such that the vector $\\underline{y}$ will become a matrix $\\textbf{O}_{N\\times C}$, where each **row** $i$ is the one-hot vector representation of the label of the feature vector in row $i$ in $\\textbf{X}$.\n",
        "- The hypothesis will simply be defined as $h(\\textbf{X})=\\textbf{X}*\\textbf{W}\n",
        "=\\textbf{P}_{N\\times C}$\n",
        "- The matrix-form in-sample error will be the vector-form in-sample error, summed over each **column** vector $\\underline{w}_j$ in $\\textbf{W}$, and **column** vector $\\underline{y}_j$ in $\\textbf{O}$:\n",
        "\n",
        "  $\n",
        "  E_{in}(\\textbf{W}) :=\n",
        "  ∑_{j=1}^C\\frac{1}{N}\\rVert \\underline{y}_j - \\textbf{X}*\\underline{w}_j \\lVert ^2\n",
        "  $\n",
        "  \n",
        "  The Frobenius Norm is defined as:\n",
        "  \n",
        "  $\n",
        "  \\lVert \\textbf{A} \\rVert_F\n",
        "  = \\sqrt{ ∑_{i=0}^N ∑_{j=0}^M \\lvert a_{ij} \\rvert ^2}\n",
        "  $\n",
        "\n",
        "  And so the matrix-form in-sample error is identical to a squared Frobenius Norm of $\\textbf{O} - \\textbf{P}$, normalized over the size of the dataset:\n",
        "\n",
        "  $\n",
        "  \\frac{1}{N} \\lVert \\textbf{O} - \\textbf{P} \\rVert_F^2\n",
        "  $\n",
        "  \n",
        "  $\n",
        "  = \\frac{1}{N} \\lVert \\textbf{O} - \\textbf{X} * \\textbf{W} \\rVert_F^2\n",
        "  $\n",
        "  \n",
        "  $\n",
        "  = \\frac{1}{N} ∑_{j=0}^C ∑_{i=0}^N \\lvert y_{ij} - \\underline{x}_i \\underline{w}_j \\rvert ^2\n",
        "  $\n",
        "  \n",
        "  $\n",
        "  = \\frac{1}{N} ∑_{j=0}^C \\rVert \\underline{y}_j - \\textbf{X}*\\underline{w}_j \\lVert ^2\n",
        "  $\n",
        "    \n",
        "  $\n",
        "  = ∑_{j=0}^C \\frac{1}{N}  \\rVert \\underline{y}_j - \\textbf{X}*\\underline{w}_j \\lVert ^2\n",
        "  $\n",
        "  \n",
        "  $\n",
        "  = E_{in}(\\textbf{W})\n",
        "  $\n",
        "\n",
        "- Similarly, the gradient of the in-sample error defiend above will be:\n",
        "\n",
        " $\n",
        " ∇E_{in}(\\textbf{W})\n",
        " $\n",
        "\n",
        " $\n",
        " := (∇E_{in}(\\underline{w}_1), ... , ∇E_{in}(\\underline{w}_C))\n",
        " $\n",
        "\n",
        " $\n",
        " = (-\\frac{2}{N}*\\textbf{X}^T(\\underline{y}_1 - \\textbf{X}\\underline{w}_1), ... , -\\frac{2}{N}*\\textbf{X}^T(\\underline{y}_C - \\textbf{X}\\underline{w}_C)\n",
        " $\n",
        "\n",
        " $\n",
        " = -\\frac{2}{N}(\\textbf{X}^T(\\underline{y}_1 - \\textbf{X}\\underline{w}_1), ... , \\textbf{X}^T(\\underline{y}_C - \\textbf{X}\\underline{w}_C)\n",
        " $\n",
        "\n",
        " $\n",
        " = -\\frac{2}{N}[(\\textbf{X}^T\\underline{y}_1 , ... , \\textbf{X}^T\\underline{y}_C)  - (\\textbf{X}^T\\textbf{X}\\underline{w}_1, ... , \\textbf{X}^T\\textbf{X}\\underline{w}_C)]\n",
        " $\n",
        "\n",
        " $\n",
        " = -\\frac{2}{N}\\textbf{X}^T[(\\underline{y}_1 , ... , \\underline{y}_C)  - (\\textbf{X}\\underline{w}_1, ... , \\textbf{X}\\underline{w}_C)]\n",
        " $\n",
        "\n",
        " $\n",
        " = -\\frac{2}{N}\\textbf{X}^T[(\\underline{y}_1 , ... , \\underline{y}_C)  - \\textbf{X}(\\underline{w}_1, ... , \\underline{w}_C)]\n",
        " $\n",
        "\n",
        " $\n",
        " = -\\frac{2}{N}\\textbf{X}^T [\\textbf{O} - \\textbf{X}* \\textbf{W}]\n",
        " $\n",
        "\n",
        " $\n",
        " = -\\frac{2}{N}\\textbf{X}^T [\\textbf{O} - \\textbf{P}]\n",
        " $"
      ],
      "metadata": {
        "id": "FtE_w11e4LTD"
      }
    },
    {
      "cell_type": "markdown",
      "source": [
        "##### **Designing the fitting:**\n",
        "\n",
        "The initial weight matrix will be $\\textbf{W}^{\\{0\\}}_{D\\times C}  =\n",
        "\\begin{pmatrix}\n",
        "0.5 & 0.5 & ... & 0.5 \\\\\n",
        "0   & 0   & ... & 0   \\\\\n",
        "... & ... & ... & ... \\\\\n",
        "0   & 0   & ... & 0\n",
        "\\end{pmatrix}\n",
        "$.\n",
        "\n",
        "For a dataset $\\textbf{X}$, weight vector $\\underline{w}$, and label vector $\\underline{y}$ there is a closed form unique solution for optimal weights, which is:\n",
        "\n",
        "$\n",
        "\\underline{w} = (\\textbf{X}^T \\textbf{X})^{-1} \\textbf{X}^T \\underline{y}\n",
        "$\n",
        "\n",
        "This only holds iff $\\textbf{X}^T \\textbf{X}$ is invertible (else the equation is undifined), and so before making an attempt to generalize the closed-form uniqe solution to fit a weight matrix $\\textbf{W}$ representation, the invertiblity must be checked:"
      ],
      "metadata": {
        "id": "NB_5up5M4c2Q"
      }
    },
    {
      "cell_type": "code",
      "source": [
        "print(f'The rank of X^T * X is: {np.linalg.matrix_rank(X_train.T @ X_train)}')"
      ],
      "metadata": {
        "colab": {
          "base_uri": "https://localhost:8080/"
        },
        "id": "ZsMWf5fgykZV",
        "outputId": "b074ace2-a206-4e9a-fc1c-851d7f4c0b58"
      },
      "execution_count": null,
      "outputs": [
        {
          "output_type": "stream",
          "name": "stdout",
          "text": [
            "The rank of X^T * X is: 710\n"
          ]
        }
      ]
    },
    {
      "cell_type": "markdown",
      "source": [
        "Which mean that $\\textbf{X}^T \\textbf{X}$ is not full rank, and so is not invertible.\n",
        "\n",
        "As a result, this regression will implament Gradient Descent instead, and as such this method will also be extended.\n",
        "\n",
        "The Gradient Descent is defined as:\n",
        "$\n",
        "\\textbf{W}_{t+1}=\\textbf{W}_{t}-\\eta*∇E_{in}(\\textbf{W}_{t})\n",
        "$\n",
        "\n",
        "And so plugging in the values computed above will get:\n",
        "$\n",
        "\\textbf{W}_{t}-\\eta*∇E_{in}(\\textbf{W}_{t})\n",
        "= \\textbf{W}_{t}-\\eta * -\\frac{2}{N}\\textbf{X}^T [\\textbf{O} - \\textbf{X}* \\textbf{W}_t]\n",
        "= \\textbf{W}_{t} + \\eta * \\frac{2}{N}\\textbf{X}^T [\\textbf{O} - \\textbf{X}* \\textbf{W}_t]\n",
        "= \\textbf{W}_{t} + \\eta * \\frac{2}{N}\\textbf{X}^T [\\textbf{O} - \\textbf{P}_t]\n",
        "$.\n",
        "\n",
        "Where $\\eta$ is also widely called the \"learning rate\" and will control the tendency of the gradient descent.\n",
        "\n",
        "One last caveat is the loss implamentation. The size of the values of the dataset will need to be stabilized or else the loss will be ineffectual in representing the progression of the GD, and as such the values in the dataset will be normalized at the beginning of the fitting to be between 0 and 1, this will be achieved by multiplying the entire dataset-matrix with the inverse of the largest element in the dataset.\n",
        "\n",
        "And now the full logical & mathematical process has been derived."
      ],
      "metadata": {
        "id": "ySW-ctyCyilL"
      }
    },
    {
      "cell_type": "markdown",
      "source": [
        "#### Overview of the implementation of the scoring method\n",
        "The prediction of the evaluation dataset will be performed as outlined above, for given weights achieved after performing fitting.\n",
        "\n",
        " To translate the probabilistic predictions into binary predictions,\n",
        " $p = argmax_{i\\in\\{0,...,9\\}}(p_i) = argmax_{i\\in\\{0,...,9\\}}([h(\\underline{x})]_i)\n",
        " =\n",
        " argmax(\\frac{1}{∑^C_{j=1}e^{\\underline{w}_j^T*\\underline{x}}}\n",
        " \\begin{pmatrix}\n",
        " e^{\\underline{w}_1^T*\\underline{x}}\\\\\n",
        " e^{\\underline{w}_2^T*\\underline{x}}\\\\\n",
        " ...\\\\\n",
        " e^{\\underline{w}_C^T*\\underline{x}}\n",
        " \\end{pmatrix}\n",
        " )\n",
        " =\n",
        " \\frac{1}{∑^C_{j=1}e^{\\underline{w}_j^T*\\underline{x}}}\n",
        " argmax(\n",
        " \\begin{pmatrix}\n",
        " e^{\\underline{w}_1^T*\\underline{x}}\\\\\n",
        " e^{\\underline{w}_2^T*\\underline{x}}\\\\\n",
        " ...\\\\\n",
        " e^{\\underline{w}_C^T*\\underline{x}}\n",
        " \\end{pmatrix}\n",
        " )\n",
        " $\n",
        "\n",
        " will be used to chose which class is the best prediction for a given feature vector $\\underline{x}$.\n",
        "\n",
        "The scoring will return an assessment using the 'one-versus-all' strategy, where each class $i$ will be assessed in the following manner:\n",
        "- $TP_i$ - number of instances of class $i$ predicted as class $i$\n",
        "- $FN_i$ - number of instances of class $i$ predicted as some class other than $i$\n",
        "- $FP_i$ - number of instances of all classes other than $i$ predicted as class $i$\n",
        "- $TN_i$ - number of instances of all classes other than $i$ predicted as some class other than $i$ (mislabelling among these classes don't matter as long as class $i$ is not involved)\n",
        "\n",
        "after that I will calculate the accuracy, sensitivity and selectivity and output all four calculations, using the equations given in the assignment:\n",
        "\n",
        "- The Accuracy is defined as ACC=(TP+TN)/(TP+TN+FP+FN)\n",
        "- The sensitivity (True positive rate) is defined as TPR = TP/(TP+FN)\n",
        "- The selectivity (True negative rate) is defined as TNR = TN/(TN+FP)\n"
      ],
      "metadata": {
        "id": "GOGAZOaHit4c"
      }
    },
    {
      "cell_type": "markdown",
      "source": [
        "#### Other useful information about the model implamentation\n",
        "The model will also have the following option:\n",
        "- A validation set & labels can be passed to calulate loss independantly for model analysis.\n",
        "- The model has an optional cut off value, that will allow it to stop iteration early if difference between consecutive iterations falls beneath it.\n",
        "- The model will have user friendly (albeit a bit a spammy) output messages during the fitting describing each epoch, that can be turned on and off if needed."
      ],
      "metadata": {
        "id": "tSTYScydwKqU"
      }
    },
    {
      "cell_type": "markdown",
      "source": [
        "#### Class definition for Linear Regression"
      ],
      "metadata": {
        "id": "mMhxT8_Hjb6W"
      }
    },
    {
      "cell_type": "code",
      "source": [
        "class LinearRegression:\n",
        "  \"\"\"\n",
        "  A Linear regression model, generalized for multiclass\n",
        "  binary-classification tasks.\n",
        "  \"\"\"\n",
        "\n",
        "  def __init__(self):\n",
        "    self._weights = None\n",
        "    self._history = None\n",
        "\n",
        "  # getters & setters #\n",
        "\n",
        "  @property\n",
        "  def history(self):\n",
        "    return self._history\n",
        "\n",
        "  # Fitting method and sub-methods #\n",
        "\n",
        "  def fit(self, dataset, labels, epochs=20, lr=10 ** -5, validation=None,\n",
        "          cut_off=None, verbose=True):\n",
        "    \"\"\"\n",
        "    :param dataset: 2d array where each column is a feature vector.\n",
        "    :param labels: 2d array of labels where each column is a one-hot\n",
        "      representation of the label for the corresponding column in the\n",
        "      'dataset'.\n",
        "    :param epochs: number of iterations for the gradient descent algorithm.\n",
        "      defualt is 20.\n",
        "    :param lr: learning rate which acts as a scalar for gradient descent,\n",
        "      used to avoid divergence on the one hand, and undershooting on the\n",
        "      other.\n",
        "    :param validation:\n",
        "      a tuple which contains:\n",
        "        [0]: a validaiton set that will be used to calulate a\n",
        "        loss independant from the training set.\n",
        "        [1]: corresponding one-hot labels.\n",
        "      This set will have no influence over the training itself.\n",
        "    :param cut_off: if a difference in loss in consecutive iterations falls\n",
        "      beneath this threshold , the iteration will stop early.\n",
        "      default is None.\n",
        "    :param verbose: print out messages to user during fitting if True.\n",
        "      default is True.\n",
        "    \"\"\"\n",
        "    # create history DF if it doesn't exist\n",
        "    if self._history is None:\n",
        "      self._initialize_history(validation)\n",
        "\n",
        "    # last_known_epoch used to keep correct epoch\n",
        "    # enumeration in 'history' for multiple fits,\n",
        "    # i.e. if fit is run more than once it should avoid the epoch\n",
        "    # resetting in the middle of the history DataFrame\n",
        "    last_known_epoch = self._history.iloc[-1]['epoch']\n",
        "\n",
        "    # initial weight is as described in the exploration\n",
        "    if self._weights is None:\n",
        "      n_clas = labels.shape[1]\n",
        "      n_featues = dataset.shape[1]\n",
        "      weights = np.zeros((n_featues, n_clas), dtype='float')\n",
        "      weights[0] = 0.5 * np.ones(n_clas)\n",
        "    else:\n",
        "      weights = self._weights\n",
        "\n",
        "    # normalize dataset values to avoid overflow when exponentiating\n",
        "    dataset = self._normalize(dataset)\n",
        "    if validation is not None:\n",
        "      val_set = self._normalize(validation[0])\n",
        "      validation = (val_set, validation[1])\n",
        "\n",
        "    # keep the previous loss of each iteration for cut off rate\n",
        "    prev_loss = np.iinfo('int64').max\n",
        "\n",
        "    # fit loop\n",
        "    for epoch in range(1, epochs + 1):\n",
        "      # create and evaluate prediction\n",
        "      predictions = self._predict(dataset, weights)\n",
        "      train_loss = self._loss(labels, predictions)\n",
        "\n",
        "      # validation\n",
        "      val_loss = None\n",
        "      if validation is not None:\n",
        "        val_predictions = self._predict(validation[0], weights)\n",
        "        val_loss = self._loss(validation[1], val_predictions)\n",
        "\n",
        "      # update history\n",
        "      self._update_history(\n",
        "        last_known_epoch, epoch, train_loss,\n",
        "        val_loss=val_loss if validation is not None else None\n",
        "        )\n",
        "\n",
        "      # interactive user update\n",
        "      if verbose:\n",
        "        self._update_user(epoch, train_loss, val_loss)\n",
        "\n",
        "      # cut-off rate for early exit\n",
        "      loss_diff = np.abs(prev_loss - train_loss)\n",
        "      if cut_off is not None and loss_diff < cut_off:\n",
        "        break\n",
        "      prev_loss = train_loss\n",
        "\n",
        "      # new weights using GD\n",
        "      d_weigths = self._gradient(dataset, predictions, labels)\n",
        "      weights += -lr * d_weigths\n",
        "\n",
        "    self._weights = weights\n",
        "\n",
        "  @staticmethod\n",
        "  def _normalize(dataset):\n",
        "    # each value in the data set will be between 0 and 1\n",
        "    return (1 / dataset.max()) * dataset\n",
        "\n",
        "  @staticmethod\n",
        "  def _predict(dataset, weights):\n",
        "    # standard matrix product\n",
        "    prediction = dataset @ weights\n",
        "    return prediction\n",
        "\n",
        "  @staticmethod\n",
        "  def _loss(labels, predictions):\n",
        "    # create diff matrix\n",
        "    diff = labels - predictions\n",
        "\n",
        "    # calculate the loss and normalize its size\n",
        "    diff_norm = np.linalg.norm(diff, ord='fro') ** 2\n",
        "    loss = (1 / len(diff)) * diff_norm\n",
        "    return loss\n",
        "\n",
        "  @staticmethod\n",
        "  def _gradient(dataset, predictions, labels):\n",
        "    # calculate diff matrix and product of dataset and diff\n",
        "    diff = labels - predictions\n",
        "    prod = dataset.T @ diff\n",
        "\n",
        "    # gradient as computed in the deliberation\n",
        "    gradient = - (2 / len(dataset)) * prod\n",
        "    return gradient\n",
        "\n",
        "  # fitting history & other methods #\n",
        "\n",
        "  @staticmethod\n",
        "  def _update_user(epoch, train_loss, val_loss=None):\n",
        "    tl = np.abs(train_loss)\n",
        "    vl = np.abs(val_loss)\n",
        "    print(f\"For epoch {epoch}: \")\n",
        "    print(f\"train loss is {tl:.4f}\", end='')\n",
        "    if val_loss is not None:\n",
        "      print(f\", validation loss is {vl:.4f}\")\n",
        "    else:\n",
        "      print()\n",
        "\n",
        "  def _initialize_history(self, validation):\n",
        "    columns = ['epoch', 'train_loss']\n",
        "    df_lsts = [[0, None]]\n",
        "\n",
        "    if validation is not None:\n",
        "      columns += ['validation_loss']\n",
        "      df_lsts[0] += [None]\n",
        "\n",
        "    self._history = pd.DataFrame(\n",
        "      df_lsts,\n",
        "      columns=columns)\n",
        "\n",
        "  def _update_history(self, lk_epoch, epoch, train_loss,\n",
        "                      val_loss=None):\n",
        "    n_ind = len(self._history)\n",
        "    history_epoch = lk_epoch + int(epoch)\n",
        "    row = [history_epoch, train_loss]\n",
        "\n",
        "    if val_loss is not None:\n",
        "      row += [val_loss, ]\n",
        "\n",
        "    self._history.loc[n_ind] = row\n",
        "\n",
        "  # Predicting and Scoring methods and sub-methods #\n",
        "\n",
        "  def predict(self, dataset):\n",
        "    if self._weights is None:\n",
        "      print(\n",
        "        \"Model is unfitted, please run 'fit' method on \"\n",
        "        \"a training dataset first\")\n",
        "      return\n",
        "\n",
        "    # predict dataset\n",
        "    dataset = self._normalize(dataset)\n",
        "    predictions = self._predict(dataset, self._weights)\n",
        "    return predictions\n",
        "\n",
        "  def score(self, predictions, labels):\n",
        "    # get enumerated labels\n",
        "    predictions_t = np.argmax(predictions, axis=1)\n",
        "    labels_t = np.argmax(labels, axis=1)\n",
        "\n",
        "    # create confusion matrix\n",
        "    n_clas = self._weights.shape[1]\n",
        "    conf_mat = np.zeros((n_clas, n_clas), dtype='int')\n",
        "    for label, prediction in zip(labels_t, predictions_t):\n",
        "      conf_mat[label][prediction] += 1\n",
        "\n",
        "    # calculate evaluations\n",
        "    acc_scr = self._aggregate_accuracy_score(conf_mat)\n",
        "\n",
        "    # return evaluations\n",
        "    retval = SimpleNamespace(confusion_matrix=conf_mat, accuracy_score=acc_scr)\n",
        "    return retval\n",
        "\n",
        "  @staticmethod\n",
        "  def _aggregate_accuracy_score(confusion_matrix):\n",
        "    # create assessment df\n",
        "    headers = ['accuracy', 'sensitivity', 'selectivity']\n",
        "    assessment = pd.DataFrame(columns=headers)\n",
        "\n",
        "    # calcualte accuracy, sensitivity and selectivity using the method\n",
        "    # described in the exploration\n",
        "    n_clas = len(confusion_matrix)\n",
        "    column_sums = np.sum(confusion_matrix, axis=0)\n",
        "    row_sums = np.sum(confusion_matrix, axis=1)\n",
        "    for i in range(n_clas):\n",
        "      tp = confusion_matrix[i][i]\n",
        "      tn = confusion_matrix.sum() - row_sums[i] - column_sums[i] + tp\n",
        "      fp = column_sums[i] - tp\n",
        "      fn = row_sums[i] - tp\n",
        "\n",
        "      accuracy = np.round((tp + tn) / (tp + tn + fp + fn), 3)\n",
        "      sensitivity = np.round(tp / (tp + fn), 3)\n",
        "      selectivity = np.round(tn / (tn + fp), 3)\n",
        "      assessment.loc[i] = [accuracy, sensitivity, selectivity]\n",
        "\n",
        "    # calulate the average accuracy, sensitivity and selectivity of each\n",
        "    # class in the model\n",
        "    avg_accuracy = np.round(np.mean(assessment['accuracy']), 3)\n",
        "    avg_sensitivity = np.round(np.mean(assessment['sensitivity']), 3)\n",
        "    avg_selectivity = np.round(np.mean(assessment['selectivity']), 3)\n",
        "    assessment.loc['avg'] = [avg_accuracy, avg_sensitivity, avg_selectivity]\n",
        "    return assessment"
      ],
      "metadata": {
        "id": "bUBwvowODgq4"
      },
      "execution_count": 24,
      "outputs": []
    },
    {
      "cell_type": "markdown",
      "source": [
        "#### Training the Linear Regression Model"
      ],
      "metadata": {
        "id": "HGIev4Uyj7KY"
      }
    },
    {
      "cell_type": "markdown",
      "source": [
        "After some expirementation, a learning rate of $10^{-2}$ was chosen, as a learning rate of $10^{-1}$ diverges almost immediately, and a learning rate of $10^{-3}$ converges very slowly.\n",
        "\n",
        "After some attempts, the optimal number of epochs with the learning rate above for an an **average** accuracy and selectivity of **95%+** and sensitivity of **80%+** is about **50 epochs**. The runtime for 50 epochs was measured to be about 25 seconds on colab.\n",
        "\n",
        "The tendency of the fitting algorithm plateaus quickly, for instance after 225 epochs the sensitivity stays below 85%.\n",
        "\n",
        "To cut off early, set 'cut_off' to an acceptable loss ($E_{in}$) **difference between consecutive epochs**, to end the model early. To avoid excessive messaging, change \"verbose\" to False to silence model printouts."
      ],
      "metadata": {
        "id": "2KOnmnEHkLjX"
      }
    },
    {
      "cell_type": "code",
      "source": [
        "lr = 10 ** -2\n",
        "epochs = 50\n",
        "cut_off = None\n",
        "verbose = True\n",
        "\n",
        "lnr = LinearRegression()\n",
        "lnr.fit(\n",
        "  X_train,\n",
        "  y_train,\n",
        "  epochs=epochs,\n",
        "  lr=lr,\n",
        "  validation=(X_test, y_test),\n",
        "  cut_off=cut_off,\n",
        "  verbose=verbose)"
      ],
      "metadata": {
        "id": "bNYGW7rkDmsD",
        "colab": {
          "base_uri": "https://localhost:8080/"
        },
        "outputId": "265e656a-cba4-410b-cc32-edaed6d49e75"
      },
      "execution_count": 37,
      "outputs": [
        {
          "output_type": "stream",
          "name": "stdout",
          "text": [
            "For epoch 1: \n",
            "train loss is 0.9961, validation loss is 0.9961\n",
            "For epoch 2: \n",
            "train loss is 0.8710, validation loss is 0.8708\n",
            "For epoch 3: \n",
            "train loss is 0.8310, validation loss is 0.8306\n",
            "For epoch 4: \n",
            "train loss is 0.7995, validation loss is 0.7989\n",
            "For epoch 5: \n",
            "train loss is 0.7719, validation loss is 0.7711\n",
            "For epoch 6: \n",
            "train loss is 0.7473, validation loss is 0.7464\n",
            "For epoch 7: \n",
            "train loss is 0.7254, validation loss is 0.7243\n",
            "For epoch 8: \n",
            "train loss is 0.7059, validation loss is 0.7047\n",
            "For epoch 9: \n",
            "train loss is 0.6884, validation loss is 0.6870\n",
            "For epoch 10: \n",
            "train loss is 0.6727, validation loss is 0.6712\n",
            "For epoch 11: \n",
            "train loss is 0.6585, validation loss is 0.6569\n",
            "For epoch 12: \n",
            "train loss is 0.6457, validation loss is 0.6440\n",
            "For epoch 13: \n",
            "train loss is 0.6341, validation loss is 0.6324\n",
            "For epoch 14: \n",
            "train loss is 0.6236, validation loss is 0.6217\n",
            "For epoch 15: \n",
            "train loss is 0.6139, validation loss is 0.6121\n",
            "For epoch 16: \n",
            "train loss is 0.6052, validation loss is 0.6032\n",
            "For epoch 17: \n",
            "train loss is 0.5971, validation loss is 0.5951\n",
            "For epoch 18: \n",
            "train loss is 0.5897, validation loss is 0.5877\n",
            "For epoch 19: \n",
            "train loss is 0.5829, validation loss is 0.5808\n",
            "For epoch 20: \n",
            "train loss is 0.5766, validation loss is 0.5745\n",
            "For epoch 21: \n",
            "train loss is 0.5707, validation loss is 0.5686\n",
            "For epoch 22: \n",
            "train loss is 0.5653, validation loss is 0.5631\n",
            "For epoch 23: \n",
            "train loss is 0.5603, validation loss is 0.5580\n",
            "For epoch 24: \n",
            "train loss is 0.5555, validation loss is 0.5533\n",
            "For epoch 25: \n",
            "train loss is 0.5511, validation loss is 0.5489\n",
            "For epoch 26: \n",
            "train loss is 0.5470, validation loss is 0.5447\n",
            "For epoch 27: \n",
            "train loss is 0.5431, validation loss is 0.5408\n",
            "For epoch 28: \n",
            "train loss is 0.5395, validation loss is 0.5372\n",
            "For epoch 29: \n",
            "train loss is 0.5360, validation loss is 0.5337\n",
            "For epoch 30: \n",
            "train loss is 0.5328, validation loss is 0.5304\n",
            "For epoch 31: \n",
            "train loss is 0.5297, validation loss is 0.5274\n",
            "For epoch 32: \n",
            "train loss is 0.5268, validation loss is 0.5244\n",
            "For epoch 33: \n",
            "train loss is 0.5240, validation loss is 0.5217\n",
            "For epoch 34: \n",
            "train loss is 0.5214, validation loss is 0.5190\n",
            "For epoch 35: \n",
            "train loss is 0.5189, validation loss is 0.5165\n",
            "For epoch 36: \n",
            "train loss is 0.5165, validation loss is 0.5141\n",
            "For epoch 37: \n",
            "train loss is 0.5143, validation loss is 0.5118\n",
            "For epoch 38: \n",
            "train loss is 0.5121, validation loss is 0.5097\n",
            "For epoch 39: \n",
            "train loss is 0.5100, validation loss is 0.5076\n",
            "For epoch 40: \n",
            "train loss is 0.5080, validation loss is 0.5056\n",
            "For epoch 41: \n",
            "train loss is 0.5061, validation loss is 0.5037\n",
            "For epoch 42: \n",
            "train loss is 0.5043, validation loss is 0.5018\n",
            "For epoch 43: \n",
            "train loss is 0.5025, validation loss is 0.5001\n",
            "For epoch 44: \n",
            "train loss is 0.5008, validation loss is 0.4984\n",
            "For epoch 45: \n",
            "train loss is 0.4992, validation loss is 0.4968\n",
            "For epoch 46: \n",
            "train loss is 0.4976, validation loss is 0.4952\n",
            "For epoch 47: \n",
            "train loss is 0.4961, validation loss is 0.4937\n",
            "For epoch 48: \n",
            "train loss is 0.4947, validation loss is 0.4922\n",
            "For epoch 49: \n",
            "train loss is 0.4933, validation loss is 0.4908\n",
            "For epoch 50: \n",
            "train loss is 0.4919, validation loss is 0.4895\n"
          ]
        }
      ]
    },
    {
      "cell_type": "markdown",
      "source": [
        "#### Assessing the Linear Regression model"
      ],
      "metadata": {
        "id": "FFyYSPyykpgE"
      }
    },
    {
      "cell_type": "markdown",
      "source": [
        "In this graph I will plot the training loss and validation loss over each epoch in the model fitting process."
      ],
      "metadata": {
        "id": "b0MKtvfZnFkz"
      }
    },
    {
      "cell_type": "code",
      "source": [
        "# fetch history\n",
        "history = lnr.history.dropna()\n",
        "t = history['epoch']\n",
        "tl = history['train_loss']\n",
        "vl = history['validation_loss']\n",
        "\n",
        "# create graph\n",
        "fig = plt.figure(figsize=(14, 6))\n",
        "axs = fig.subplots()\n",
        "font_size = 20\n",
        "\n",
        "# plot loss\n",
        "axs.plot(t, tl, 'b', lw=5, label=history.columns[1])\n",
        "axs.plot(t, vl, 'orange', lw=2 ,label=history.columns[2])\n",
        "axs.set_title('Loss for Linear Regression',  fontsize=font_size)\n",
        "axs.legend()\n",
        "plt.xticks(range(int(t.min())-1, int(t.max()+1), 5))\n",
        "\n",
        "plt.show()"
      ],
      "metadata": {
        "colab": {
          "base_uri": "https://localhost:8080/",
          "height": 553
        },
        "id": "GDKUaUusm4sk",
        "outputId": "9da95f50-0a48-44e1-ca65-a910f7f1ef9c"
      },
      "execution_count": 38,
      "outputs": [
        {
          "output_type": "display_data",
          "data": {
            "text/plain": [
              "<Figure size 1400x600 with 1 Axes>"
            ],
            "image/png": "[encoded data removed]"
          },
          "metadata": {}
        }
      ]
    },
    {
      "cell_type": "markdown",
      "source": [
        "#### Scoring the Linear Regression model"
      ],
      "metadata": {
        "id": "rfPKvQqZlECR"
      }
    },
    {
      "cell_type": "markdown",
      "source": [
        "Let's score the test set to see how the model will do."
      ],
      "metadata": {
        "id": "oW1CbN0w9rB6"
      }
    },
    {
      "cell_type": "code",
      "source": [
        "# score test set\n",
        "predictions = lnr.predict(X_test)\n",
        "lnr_score = lnr.score(predictions, y_test)"
      ],
      "metadata": {
        "id": "1JzjQkQF9px9"
      },
      "execution_count": 39,
      "outputs": []
    },
    {
      "cell_type": "markdown",
      "source": [
        "Next, I will plot the confusion matrix given by the model's 'score' method over a seaborn heatmap:\n",
        "\n"
      ],
      "metadata": {
        "id": "Jczp9bZ2nl_2"
      }
    },
    {
      "cell_type": "code",
      "source": [
        "# fetch and arrange data to present in heatmap\n",
        "header = lnr_score.accuracy_score.index[:-1]\n",
        "confusion_matrix = lnr_score.confusion_matrix\n",
        "heatmap_df = pd.DataFrame(confusion_matrix, index=header, columns=header)\n",
        "\n",
        "# plot heatmap\n",
        "plt.figure(figsize=(8, 5))\n",
        "sns.heatmap(heatmap_df, annot=True, fmt='.0f')\n",
        "plt.title('Confusion Matrix for Linear Regression', fontsize=18)\n",
        "plt.xlabel('Prediction', fontsize=14)\n",
        "plt.ylabel('Label', fontsize=14)\n",
        "\n",
        "plt.show()"
      ],
      "metadata": {
        "colab": {
          "base_uri": "https://localhost:8080/",
          "height": 497
        },
        "id": "7pAPDFZVVrdT",
        "outputId": "83b70a69-53fc-4701-d556-f3dc4bf1ee47"
      },
      "execution_count": 42,
      "outputs": [
        {
          "output_type": "display_data",
          "data": {
            "text/plain": [
              "<Figure size 800x500 with 2 Axes>"
            ],
            "image/png": "[encoded data removed]"
          },
          "metadata": {}
        }
      ]
    },
    {
      "cell_type": "markdown",
      "source": [
        "Finally, I will plot the model's assessment in table:"
      ],
      "metadata": {
        "id": "jlTT9vecpWhT"
      }
    },
    {
      "cell_type": "code",
      "source": [
        "accuracy_score = lnr_score.accuracy_score\n",
        "headers = accuracy_score.columns\n",
        "table = tabulate(\n",
        "  accuracy_score, headers=headers, tablefmt=\"grid\")\n",
        "print(table)"
      ],
      "metadata": {
        "colab": {
          "base_uri": "https://localhost:8080/"
        },
        "id": "puWLq4p1lLGH",
        "outputId": "5fec0c44-d061-47e6-c04c-467ee0bfd7cf"
      },
      "execution_count": 43,
      "outputs": [
        {
          "output_type": "stream",
          "name": "stdout",
          "text": [
            "+-----+------------+---------------+---------------+\n",
            "|     |   accuracy |   sensitivity |   selectivity |\n",
            "+=====+============+===============+===============+\n",
            "| 0   |      0.978 |         0.952 |         0.981 |\n",
            "+-----+------------+---------------+---------------+\n",
            "| 1   |      0.956 |         0.956 |         0.956 |\n",
            "+-----+------------+---------------+---------------+\n",
            "| 2   |      0.966 |         0.775 |         0.988 |\n",
            "+-----+------------+---------------+---------------+\n",
            "| 3   |      0.954 |         0.855 |         0.966 |\n",
            "+-----+------------+---------------+---------------+\n",
            "| 4   |      0.97  |         0.854 |         0.983 |\n",
            "+-----+------------+---------------+---------------+\n",
            "| 5   |      0.953 |         0.502 |         0.997 |\n",
            "+-----+------------+---------------+---------------+\n",
            "| 6   |      0.974 |         0.925 |         0.98  |\n",
            "+-----+------------+---------------+---------------+\n",
            "| 7   |      0.968 |         0.883 |         0.978 |\n",
            "+-----+------------+---------------+---------------+\n",
            "| 8   |      0.955 |         0.701 |         0.983 |\n",
            "+-----+------------+---------------+---------------+\n",
            "| 9   |      0.958 |         0.714 |         0.985 |\n",
            "+-----+------------+---------------+---------------+\n",
            "| avg |      0.963 |         0.812 |         0.98  |\n",
            "+-----+------------+---------------+---------------+\n"
          ]
        }
      ]
    },
    {
      "cell_type": "markdown",
      "source": [
        "## Conclusion\n",
        "On the one hand, Linear Regression performed about the same as the Multi-Class Perceptron with better benchmarking, as the accuracy, sensitivity and selectivity are pretty similar between both models, including particular failures (digit '5' in the Linear Regression vs digit '8' in the Multi-Class Perceptron), but the Linear Regression performed this in 50 epochs vs the 300+ epochs needed by the Perceptron, although on colab they performed in similar times, better hardware (GPUs) or under-the-hood implementation will allow Linear Regression to perform better than the Perceptron in real time.\n",
        "\n",
        "On the other hand, Linear Regression performed relatively worse than The Softmax Regression model with a lower average accuracy, sensitivity and selectivity in over double the time (9 seconds** for Softmax Regression vs 25 seconds for Linear Regression) while staying in the same order of magnitude, and a much worse classification imbalance than the Softmax Regression.\n",
        "\n",
        "As in the previous assignment, sensitivity the best assessor in this case for measuring the effective preformance of the model. Re-running the model for 200+ epochs, the average sensitivity will stay under **85%**, with individual classes (like 5 and 8) still lagging behind. This means that Linear Regression is supralinearly worse than Softmax Regression, which can achieve roughly **90%** sensitivity in around 100 epochs.\n",
        "\n",
        "As such, although Linear Regression is a somewhat improvement over the Multi-Class Perceptron for MNIST digit classification, it still falls substantially behind Softmax Regression in this task. This makes some intuitive sense as Linear Regression isn't inherently designed for the task of multi-class binary classification, but for partitioning a space, which inherently makes it a less appropriate tool to tackle this specific issue when compared to the Softmax Regression, which is a probabalistic tool for binary classification. The stregths of Linear Regression meanwhile are two fold. The First is that if the dataset $\\textbf{X}$ has that property that $\\textbf{X}^T \\textbf{X}$ is invertible we can calculate the optimal weights directly which allow a single-epoch fitting. The Second is that the mathematical definition of Linear Regression is differentiable and so we can implament Gradient Descent, which allows us a much faster (epoch-wise) convergence scheme than the PLA, which is designed specifically for binary classification.\n",
        "\n",
        "-- Roman Waitzman - 313597270"
      ],
      "metadata": {
        "id": "kng1NF7yQLvf"
      }
    },
    {
      "cell_type": "markdown",
      "source": [
        "** In MMN12 I used a weight matrix of \"longdouble\" instead of \"float\" which slowed down performance substantially for the Softmax Regression model, re-running with \"float\" achieves the runtime stated above."
      ],
      "metadata": {
        "id": "cmfThydhRk8q"
      }
    }
  ]
}